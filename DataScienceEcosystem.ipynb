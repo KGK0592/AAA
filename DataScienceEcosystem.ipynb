{
  "nbformat": 4,
  "nbformat_minor": 0,
  "metadata": {
    "colab": {
      "provenance": []
    },
    "kernelspec": {
      "name": "python3",
      "display_name": "Python 3"
    },
    "language_info": {
      "name": "python"
    }
  },
  "cells": [
    {
      "cell_type": "code",
      "execution_count": null,
      "metadata": {
        "id": "EbQgDCMwTpru"
      },
      "outputs": [],
      "source": []
    },
    {
      "cell_type": "markdown",
      "source": [
        "# Data Science Tools and Ecosystem"
      ],
      "metadata": {
        "id": "U-yzwxmITz23"
      }
    },
    {
      "cell_type": "markdown",
      "source": [
        "In this notebook, Data Science Tools and Ecosystem are summarized."
      ],
      "metadata": {
        "id": "Cm0Z-MtuUKNp"
      }
    },
    {
      "cell_type": "markdown",
      "source": [
        "Some of the popular languages that Data Scientists use are:\n",
        "\n",
        "1. Python\n",
        "2. R\n",
        "3. SQL"
      ],
      "metadata": {
        "id": "HWjfPYL8UTsz"
      }
    },
    {
      "cell_type": "markdown",
      "source": [
        "**Objectives:**\n",
        "\n",
        "- List popular languages for Data Science\n",
        "- Identify commonly used libraries in Data Science\n",
        "- Create and manipulate Markdown tables\n",
        "- Evaluate arithmetic expressions in Python\n",
        "- Convert units between minutes and hours"
      ],
      "metadata": {
        "id": "_Zp2JQuyV2P2"
      }
    },
    {
      "cell_type": "markdown",
      "source": [
        "Some of the commonly used libraries used by Data Scientists include:\n",
        "\n",
        "1. NumPy\n",
        "2. Pandas\n",
        "3. Matplotlib"
      ],
      "metadata": {
        "id": "XcHDDaHZUUXp"
      }
    },
    {
      "cell_type": "markdown",
      "source": [
        "| Data Science Tools |\n",
        "|--------------------|\n",
        "| Jupyter Notebook   |\n",
        "| RStudio            |\n",
        "| Apache Zeppelin    |\n"
      ],
      "metadata": {
        "id": "e2d9zKnBUpP6"
      }
    },
    {
      "cell_type": "markdown",
      "source": [
        "### Below are a few examples of evaluating arithmetic expressions in Python"
      ],
      "metadata": {
        "id": "KuDMBXydU0bO"
      }
    },
    {
      "cell_type": "code",
      "source": [
        "# This is a simple arithmetic expression to multiply two integers and then add another integer\n",
        "result = (3 * 4) + 5\n",
        "result"
      ],
      "metadata": {
        "colab": {
          "base_uri": "https://localhost:8080/"
        },
        "id": "M9Nygfd_VcA-",
        "outputId": "9509ea17-baef-45ac-a180-144c565e94bb"
      },
      "execution_count": 2,
      "outputs": [
        {
          "output_type": "execute_result",
          "data": {
            "text/plain": [
              "17"
            ]
          },
          "metadata": {},
          "execution_count": 2
        }
      ]
    },
    {
      "cell_type": "code",
      "source": [
        "# This will convert 200 minutes to hours by dividing by 60\n",
        "minutes = 200\n",
        "hours = minutes / 60\n",
        "hours"
      ],
      "metadata": {
        "colab": {
          "base_uri": "https://localhost:8080/"
        },
        "id": "gx8l4RT6VnGf",
        "outputId": "ce534055-e4c8-4516-cefd-1bcd8dbc37c6"
      },
      "execution_count": 3,
      "outputs": [
        {
          "output_type": "execute_result",
          "data": {
            "text/plain": [
              "3.3333333333333335"
            ]
          },
          "metadata": {},
          "execution_count": 3
        }
      ]
    },
    {
      "cell_type": "markdown",
      "source": [
        "## Author\n",
        "\n",
        "Carlos Grec"
      ],
      "metadata": {
        "id": "RM3RqND0WWVx"
      }
    }
  ]
}